{
 "cells": [
  {
   "cell_type": "markdown",
   "id": "2bc896da",
   "metadata": {},
   "source": [
    "# 1. Import Libraries"
   ]
  },
  {
   "cell_type": "code",
   "execution_count": null,
   "id": "e2a36a71",
   "metadata": {},
   "outputs": [],
   "source": [
    "import numpy as np\n",
    "import pandas as pd\n",
    "\n",
    "from sklearn.model_selection import train_test_split\n",
    "from sklearn.preprocessing import StandardScaler\n",
    "from sklearn.svm import SVC\n",
    "from sklearn.neural_network import MLPClassifier\n",
    "from sklearn.metrics import classification_report, confusion_matrix, roc_auc_score\n",
    "\n",
    "from tensorflow.keras import Sequential\n",
    "from tensorflow.keras.layers import Conv1D, Flatten, Dense, Dropout\n",
    "from tensorflow.keras.utils import to_categorical"
   ]
  },
  {
   "cell_type": "markdown",
   "id": "cd3cc9f9",
   "metadata": {},
   "source": [
    "# 2. Dataset"
   ]
  },
  {
   "cell_type": "code",
   "execution_count": null,
   "id": "fa3f7858",
   "metadata": {},
   "outputs": [],
   "source": [
    "data = pd.read_csv('datasets/Dataset2/train.csv')\n",
    "test = pd.read_csv('datasets/Dataset2/test.csv')\n",
    "\n",
    "data.info()\n",
    "data.head()\n",
    "data.describe().T"
   ]
  },
  {
   "cell_type": "markdown",
   "id": "91e509c2",
   "metadata": {},
   "source": [
    "# 3. Data Preprocessing"
   ]
  },
  {
   "cell_type": "code",
   "execution_count": null,
   "id": "ee504b1f",
   "metadata": {},
   "outputs": [],
   "source": [
    "# Drop id\n",
    "for df in [data, test]:\n",
    "    if 'id' in df.columns:\n",
    "        df.drop('id', axis=1, inplace=True)\n",
    "\n",
    "# Pisah fitur dan target\n",
    "y = data['price_range']\n",
    "X = data.drop('price_range', axis=1)\n",
    "\n",
    "# Split 70:30\n",
    "X_train, X_test, y_train, y_test = train_test_split(\n",
    "    X, y, test_size=0.3, stratify=y, random_state=42\n",
    ")\n",
    "\n",
    "# Scaling\n",
    "scaler = StandardScaler()\n",
    "X_train = scaler.fit_transform(X_train)\n",
    "X_test = scaler.transform(X_test)"
   ]
  },
  {
   "cell_type": "markdown",
   "id": "3ea3c53e",
   "metadata": {},
   "source": [
    "# 4. Method"
   ]
  },
  {
   "cell_type": "markdown",
   "id": "f9fecc75",
   "metadata": {},
   "source": [
    "## 4.1. SVM"
   ]
  },
  {
   "cell_type": "code",
   "execution_count": null,
   "id": "71e55926",
   "metadata": {},
   "outputs": [],
   "source": [
    "svm = SVC(kernel='rbf', decision_function_shape='ovr')\n",
    "svm.fit(X_train, y_train)\n",
    "\n",
    "y_pred = svm.predict(X_test)\n",
    "\n",
    "print(classification_report(y_test, y_pred))\n",
    "print(confusion_matrix(y_test, y_pred))"
   ]
  },
  {
   "cell_type": "markdown",
   "id": "8adab785",
   "metadata": {},
   "source": [
    "## 4.2. MLP"
   ]
  },
  {
   "cell_type": "code",
   "execution_count": null,
   "id": "d2eb6187",
   "metadata": {},
   "outputs": [],
   "source": [
    "mlp = MLPClassifier(hidden_layer_sizes=(100,50), max_iter=200, random_state=42)\n",
    "mlp.fit(X_train, y_train)\n",
    "\n",
    "y_pred = mlp.predict(X_test)\n",
    "\n",
    "print(classification_report(y_test, y_pred))\n",
    "print(confusion_matrix(y_test, y_pred))"
   ]
  },
  {
   "cell_type": "markdown",
   "id": "601673fb",
   "metadata": {},
   "source": [
    "## 4.3. CNN"
   ]
  },
  {
   "cell_type": "code",
   "execution_count": null,
   "id": "7543860a",
   "metadata": {},
   "outputs": [],
   "source": [
    "# reshape untuk CNN-1D\n",
    "timesteps = X_train.shape[1]\n",
    "\n",
    "X_train_cnn = X_train.reshape(-1, timesteps, 1)\n",
    "X_test_cnn = X_test.reshape(-1, timesteps, 1)\n",
    "\n",
    "y_train_cat = to_categorical(y_train.astype(int))\n",
    "y_test_cat = to_categorical(y_test.astype(int))\n",
    "\n",
    "model_cnn = Sequential([\n",
    "    Conv1D(32, 3, activation='relu', input_shape=(timesteps,1)),\n",
    "    Dropout(0.3),\n",
    "    Conv1D(64, 3, activation='relu'),\n",
    "    Flatten(),\n",
    "    Dense(100, activation='relu'),\n",
    "    Dense(y_train_cat.shape[1], activation='softmax')\n",
    "])\n",
    "\n",
    "model_cnn.compile('adam', 'categorical_crossentropy', ['accuracy'])\n",
    "model_cnn.fit(X_train_cnn, y_train_cat, epochs=20, batch_size=32, validation_split=0.2)\n",
    "\n",
    "# Evaluasi CNN\n",
    "y_cnn_pred = np.argmax(model_cnn.predict(X_test_cnn), axis=1)\n",
    "print(confusion_matrix(y_test, y_cnn_pred))"
   ]
  },
  {
   "cell_type": "code",
   "execution_count": null,
   "id": "cf2eb2e0",
   "metadata": {},
   "outputs": [],
   "source": [
    "probs = svm.decision_function(X_test)\n",
    "print(\"SVM Multi-class ROC-AUC (OVR):\", roc_auc_score(y_test, probs, multi_class='ovr'))"
   ]
  }
 ],
 "metadata": {
  "kernelspec": {
   "display_name": ".venv",
   "language": "python",
   "name": "python3"
  },
  "language_info": {
   "codemirror_mode": {
    "name": "ipython",
    "version": 3
   },
   "file_extension": ".py",
   "mimetype": "text/x-python",
   "name": "python",
   "nbconvert_exporter": "python",
   "pygments_lexer": "ipython3",
   "version": "3.12.3"
  }
 },
 "nbformat": 4,
 "nbformat_minor": 5
}
