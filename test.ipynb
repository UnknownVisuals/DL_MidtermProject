{
 "cells": [
  {
   "cell_type": "code",
   "execution_count": null,
   "id": "e2a36a71",
   "metadata": {},
   "outputs": [],
   "source": [
    "import pandas as pd\n",
    "from sklearn.model_selection import train_test_split\n",
    "from sklearn.preprocessing import StandardScaler, LabelEncoder\n",
    "\n",
    "data = pd.read_csv('datasets/Dataset1/Dataset1.csv')"
   ]
  },
  {
   "cell_type": "code",
   "execution_count": null,
   "id": "ee504b1f",
   "metadata": {},
   "outputs": [],
   "source": [
    "# Contoh: label encode kolom churn\n",
    "le = LabelEncoder()\n",
    "data['Churn'] = le.fit_transform(data['Churn'])\n",
    "\n",
    "# Memisah fitur dan target\n",
    "y = data['Churn']\n",
    "X = data.drop('Churn', axis=1)\n",
    "\n",
    "# One-hot encode categoricals\n",
    "X = pd.get_dummies(X)\n",
    "\n",
    "# Split\n",
    "X_train, X_test, y_train, y_test = train_test_split(\n",
    "    X, y, test_size=0.3, random_state=42, stratify=y\n",
    ")\n",
    "\n",
    "# Scaling\n",
    "tmp = StandardScaler()\n",
    "X_train = tmp.fit_transform(X_train)\n",
    "X_test = tmp.transform(X_test)"
   ]
  },
  {
   "cell_type": "code",
   "execution_count": null,
   "id": "71e55926",
   "metadata": {},
   "outputs": [],
   "source": [
    "from sklearn.svm import SVC\n",
    "from sklearn.metrics import classification_report, confusion_matrix\n",
    "\n",
    "svm = SVC(kernel='rbf', probability=True)\n",
    "svm.fit(X_train, y_train)\n",
    "y_pred = svm.predict(X_test)\n",
    "print(classification_report(y_test, y_pred))"
   ]
  },
  {
   "cell_type": "code",
   "execution_count": null,
   "id": "d2eb6187",
   "metadata": {},
   "outputs": [],
   "source": [
    "from sklearn.neural_network import MLPClassifier\n",
    "\n",
    "mlp = MLPClassifier(hidden_layer_sizes=(100,50), max_iter=200, random_state=42)\n",
    "mlp.fit(X_train, y_train)\n",
    "y_pred = mlp.predict(X_test)\n",
    "print(classification_report(y_test, y_pred))"
   ]
  },
  {
   "cell_type": "code",
   "execution_count": null,
   "id": "7543860a",
   "metadata": {},
   "outputs": [],
   "source": [
    "import numpy as np\n",
    "from tensorflow.keras import Sequential\n",
    "from tensorflow.keras.layers import Conv1D, Flatten, Dense, Dropout\n",
    "from tensorflow.keras.utils import to_categorical\n",
    "\n",
    "# Ubah X_train/X_test ke bentuk 3D\n",
    "timesteps = X_train.shape[1]  # jumlah fitur\n",
    "X_train_cnn = X_train.reshape(-1, timesteps, 1)\n",
    "X_test_cnn = X_test.reshape(-1, timesteps, 1)\n",
    "\n",
    "y_train_cat = to_categorical(y_train)\n",
    "y_test_cat = to_categorical(y_test)\n",
    "\n",
    "model = Sequential([\n",
    "    Conv1D(32, kernel_size=3, activation='relu', input_shape=(timesteps, 1)),\n",
    "    Dropout(0.3),\n",
    "    Conv1D(64, kernel_size=3, activation='relu'),\n",
    "    Flatten(),\n",
    "    Dense(100, activation='relu'),\n",
    "    Dense(2, activation='softmax')\n",
    "])\n",
    "model.compile(optimizer='adam', loss='categorical_crossentropy', metrics=['accuracy'])\n",
    "\n",
    "model.fit(X_train_cnn, y_train_cat, epochs=20, batch_size=32, validation_split=0.2)\n",
    "\n",
    "loss, acc = model.evaluate(X_test_cnn, y_test_cat)\n",
    "print(f\"Test Accuracy: {acc:.4f}\")"
   ]
  },
  {
   "cell_type": "code",
   "execution_count": null,
   "id": "cf2eb2e0",
   "metadata": {},
   "outputs": [],
   "source": [
    "from sklearn.metrics import roc_auc_score, roc_curve\n",
    "\n",
    "# Contoh AUC SVM\n",
    "y_prob = svm.predict_proba(X_test)[:,1]\n",
    "auc_svm = roc_auc_score(y_test, y_prob)\n",
    "print(f\"SVM ROC-AUC: {auc_svm:.4f}\")"
   ]
  }
 ],
 "metadata": {
  "kernelspec": {
   "display_name": ".venv",
   "language": "python",
   "name": "python3"
  },
  "language_info": {
   "codemirror_mode": {
    "name": "ipython",
    "version": 3
   },
   "file_extension": ".py",
   "mimetype": "text/x-python",
   "name": "python",
   "nbconvert_exporter": "python",
   "pygments_lexer": "ipython3",
   "version": "3.12.10"
  }
 },
 "nbformat": 4,
 "nbformat_minor": 5
}
